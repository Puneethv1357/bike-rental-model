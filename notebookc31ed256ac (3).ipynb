{
 "cells": [
  {
   "cell_type": "code",
   "execution_count": 1,
   "id": "0be22d70",
   "metadata": {
    "_cell_guid": "b1076dfc-b9ad-4769-8c92-a6c4dae69d19",
    "_uuid": "8f2839f25d086af736a60e9eeb907d3b93b6e0e5",
    "execution": {
     "iopub.execute_input": "2025-06-11T07:50:54.577070Z",
     "iopub.status.busy": "2025-06-11T07:50:54.576185Z",
     "iopub.status.idle": "2025-06-11T07:50:56.552893Z",
     "shell.execute_reply": "2025-06-11T07:50:56.551660Z"
    },
    "papermill": {
     "duration": 1.981881,
     "end_time": "2025-06-11T07:50:56.554666",
     "exception": false,
     "start_time": "2025-06-11T07:50:54.572785",
     "status": "completed"
    },
    "tags": []
   },
   "outputs": [
    {
     "name": "stdout",
     "output_type": "stream",
     "text": [
      "/kaggle/input/zero-to-ml-01-submission/train_expanded.csv\n",
      "/kaggle/input/zero-to-ml-01-submission/sample_submission.csv\n",
      "/kaggle/input/zero-to-ml-01-submission/test_expanded.csv\n"
     ]
    }
   ],
   "source": [
    "# This Python 3 environment comes with many helpful analytics libraries installed\n",
    "# It is defined by the kaggle/python Docker image: https://github.com/kaggle/docker-python\n",
    "# For example, here's several helpful packages to load\n",
    "\n",
    "import numpy as np # linear algebra\n",
    "import pandas as pd # data processing, CSV file I/O (e.g. pd.read_csv)\n",
    "\n",
    "# Input data files are available in the read-only \"../input/\" directory\n",
    "# For example, running this (by clicking run or pressing Shift+Enter) will list all files under the input directory\n",
    "\n",
    "import os\n",
    "for dirname, _, filenames in os.walk('/kaggle/input'):\n",
    "    for filename in filenames:\n",
    "        print(os.path.join(dirname, filename))\n",
    "\n",
    "# You can write up to 20GB to the current directory (/kaggle/working/) that gets preserved as output when you create a version using \"Save & Run All\" \n",
    "# You can also write temporary files to /kaggle/temp/, but they won't be saved outside of the current session\n"
   ]
  },
  {
   "cell_type": "code",
   "execution_count": 2,
   "id": "45fe2381",
   "metadata": {
    "execution": {
     "iopub.execute_input": "2025-06-11T07:50:56.559519Z",
     "iopub.status.busy": "2025-06-11T07:50:56.559122Z",
     "iopub.status.idle": "2025-06-11T07:50:59.197346Z",
     "shell.execute_reply": "2025-06-11T07:50:59.196243Z"
    },
    "papermill": {
     "duration": 2.642279,
     "end_time": "2025-06-11T07:50:59.198905",
     "exception": false,
     "start_time": "2025-06-11T07:50:56.556626",
     "status": "completed"
    },
    "tags": []
   },
   "outputs": [
    {
     "name": "stdout",
     "output_type": "stream",
     "text": [
      "Validation RMSE: 11.03\n"
     ]
    }
   ],
   "source": [
    "from sklearn.ensemble import RandomForestRegressor\n",
    "from sklearn.model_selection import train_test_split\n",
    "from sklearn.metrics import mean_squared_error\n",
    "\n",
    "# Loading datasets\n",
    "train = pd.read_csv('/kaggle/input/zero-to-ml-01-submission/train_expanded.csv')\n",
    "test = pd.read_csv('/kaggle/input/zero-to-ml-01-submission/test_expanded.csv')\n",
    "\n",
    "# Encoding categorical features temp weekday weatehr\n",
    "X = pd.get_dummies(train[['temperature', 'weekday', 'weather']])\n",
    "X_test = pd.get_dummies(test[['temperature', 'weekday', 'weather']])\n",
    "\n",
    "# Align columns\n",
    "X_test = X_test.reindex(columns=X.columns, fill_value=0)\n",
    "\n",
    "# Target \n",
    "y = train['rentals']\n",
    "\n",
    "# Train,Test split\n",
    "X_train, X_val, y_train, y_val = train_test_split(X, y, test_size=0.1, random_state=42)\n",
    "\n",
    "# Model: Random Forest\n",
    "model = RandomForestRegressor(n_estimators=200, max_depth=15, random_state=42)\n",
    "model.fit(X_train, y_train)\n",
    "\n",
    "# Validate (optional)\n",
    "val_preds = np.round(model.predict(X_val)).astype(int)\n",
    "rmse = mean_squared_error(y_val, val_preds, squared=False)\n",
    "print(f'Validation RMSE: {rmse:.2f}')\n",
    "\n",
    "# Predict on test data\n",
    "test_preds = np.round(model.predict(X_test)).astype(int)\n",
    "\n",
    "# Creating DataFrame\n",
    "submission = pd.DataFrame({\n",
    "    'id': test['id'],\n",
    "    'rentals': test_preds\n",
    "})\n",
    "\n",
    "# Saving to csv\n",
    "submission.to_csv('submission.csv', index=False)\n"
   ]
  }
 ],
 "metadata": {
  "kaggle": {
   "accelerator": "none",
   "dataSources": [
    {
     "databundleVersionId": 12615844,
     "sourceId": 104806,
     "sourceType": "competition"
    }
   ],
   "dockerImageVersionId": 31040,
   "isGpuEnabled": false,
   "isInternetEnabled": true,
   "language": "python",
   "sourceType": "notebook"
  },
  "kernelspec": {
   "display_name": "Python 3",
   "language": "python",
   "name": "python3"
  },
  "language_info": {
   "codemirror_mode": {
    "name": "ipython",
    "version": 3
   },
   "file_extension": ".py",
   "mimetype": "text/x-python",
   "name": "python",
   "nbconvert_exporter": "python",
   "pygments_lexer": "ipython3",
   "version": "3.11.11"
  },
  "papermill": {
   "default_parameters": {},
   "duration": 10.250711,
   "end_time": "2025-06-11T07:50:59.921412",
   "environment_variables": {},
   "exception": null,
   "input_path": "__notebook__.ipynb",
   "output_path": "__notebook__.ipynb",
   "parameters": {},
   "start_time": "2025-06-11T07:50:49.670701",
   "version": "2.6.0"
  }
 },
 "nbformat": 4,
 "nbformat_minor": 5
}
